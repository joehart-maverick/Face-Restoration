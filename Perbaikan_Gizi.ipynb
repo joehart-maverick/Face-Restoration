{
  "nbformat": 4,
  "nbformat_minor": 0,
  "metadata": {
    "colab": {
      "provenance": []
    },
    "kernelspec": {
      "name": "python3",
      "display_name": "Python 3"
    },
    "language_info": {
      "name": "python"
    },
    "accelerator": "GPU",
    "gpuClass": "standard"
  },
  "cells": [
    {
      "cell_type": "markdown",
      "source": [
        "1. Pertama masuk ke **Runtime Menu > Change Runtime Type = GPU**"
      ],
      "metadata": {
        "id": "XffSmiPleAM7"
      }
    },
    {
      "cell_type": "markdown",
      "source": [
        "2. Kemudian **Run** prosesnya"
      ],
      "metadata": {
        "id": "gaYQ7GZteXDA"
      }
    },
    {
      "cell_type": "code",
      "execution_count": 3,
      "metadata": {
        "cellView": "form",
        "id": "_Jp86Ty9d8TX"
      },
      "outputs": [],
      "source": [
        "#@markdown #Install dulu ya\n",
        "# Download GFPGAN dulu boss\n",
        "%cd /content\n",
        "!rm -rf GFPGAN\n",
        "!git clone https://github.com/TencentARC/GFPGAN.git\n",
        "%cd GFPGAN\n",
        "# Install basicsr\n",
        "!pip install basicsr\n",
        "# Install facexlib\n",
        "!pip install facexlib\n",
        "# Install yang lainnya juga\n",
        "!pip install -r requirements.txt\n",
        "!python setup.py develop\n",
        "!pip install realesrgan \n",
        "# Download Model v1.3\n",
        "!wget https://github.com/TencentARC/GFPGAN/releases/download/v1.3.0/GFPGANv1.3.pth -P experiments/pretrained_models\n",
        "from IPython.display import clear_output\n",
        "clear_output()"
      ]
    },
    {
      "cell_type": "markdown",
      "source": [
        "3. Upload Gambarmu ngab"
      ],
      "metadata": {
        "id": "7k5ZeZZue6KH"
      }
    },
    {
      "cell_type": "code",
      "source": [
        "#@markdown #Upload Disini\n",
        "# OTW Upload\n",
        "import os\n",
        "from google.colab import files\n",
        "import shutil\n",
        "\n",
        "upload_folder = 'inputs/upload'\n",
        "\n",
        "if os.path.isdir(upload_folder):\n",
        "    shutil.rmtree(upload_folder)\n",
        "os.mkdir(upload_folder)\n",
        "\n",
        "uploaded = files.upload()\n",
        "for filename in uploaded.keys():\n",
        "  dst_path = os.path.join(upload_folder, filename)\n",
        "  print(f'move {filename} to {dst_path}')\n",
        "  shutil.move(filename, dst_path)"
      ],
      "metadata": {
        "cellView": "form",
        "id": "IirwPxyQfEzY"
      },
      "execution_count": null,
      "outputs": []
    },
    {
      "cell_type": "markdown",
      "source": [
        "4. Ini penting supaya gambar gak burik"
      ],
      "metadata": {
        "id": "OnUcsGaKfOEd"
      }
    },
    {
      "cell_type": "code",
      "source": [
        "#@markdown #Run aja\n",
        "!rm -rf results\n",
        "!python inference_gfpgan.py -i inputs/upload -o results -v 1.3 -s 2 --bg_upsampler realesrgan\n",
        "!ls results/cmp\n",
        "\n",
        "clear_output()"
      ],
      "metadata": {
        "cellView": "form",
        "id": "uem-AWSifd7y"
      },
      "execution_count": 5,
      "outputs": []
    },
    {
      "cell_type": "markdown",
      "source": [
        "5. Selanjutnya boleh di **SKIP** boleh enggak, cuman buat liatin hasilnya nanti kayak gimana"
      ],
      "metadata": {
        "id": "lcQ8MZ8ZfxSQ"
      }
    },
    {
      "cell_type": "code",
      "source": [
        "#@markdown #Kiri Gambarmu, Kanan Hasilnya\n",
        "import cv2\n",
        "import matplotlib.pyplot as plt\n",
        "def display(img1, img2):\n",
        "  fig = plt.figure(figsize=(25, 10))\n",
        "  ax1 = fig.add_subplot(1, 2, 1) \n",
        "  plt.title('Input image', fontsize=16)\n",
        "  ax1.axis('off')\n",
        "  ax2 = fig.add_subplot(1, 2, 2)\n",
        "  plt.title('GFPGAN output', fontsize=16)\n",
        "  ax2.axis('off')\n",
        "  ax1.imshow(img1)\n",
        "  ax2.imshow(img2)\n",
        "def imread(img_path):\n",
        "  img = cv2.imread(img_path)\n",
        "  img = cv2.cvtColor(img, cv2.COLOR_BGR2RGB)\n",
        "  return img\n",
        "\n",
        "# Display ke upload folder\n",
        "import os\n",
        "import glob\n",
        "\n",
        "input_folder = 'inputs/upload'\n",
        "result_folder = 'results/restored_imgs'\n",
        "input_list = sorted(glob.glob(os.path.join(input_folder, '*')))\n",
        "output_list = sorted(glob.glob(os.path.join(result_folder, '*')))\n",
        "for input_path, output_path in zip(input_list, output_list):\n",
        "  img_input = imread(input_path)\n",
        "  img_output = imread(output_path)\n",
        "  display(img_input, img_output)"
      ],
      "metadata": {
        "cellView": "form",
        "id": "UzWQPaJNf9rY"
      },
      "execution_count": null,
      "outputs": []
    },
    {
      "cell_type": "markdown",
      "source": [
        "6. Download hasilnya (kecepatan download tergantung koneksimu)"
      ],
      "metadata": {
        "id": "F6wgrx8zgPjm"
      }
    },
    {
      "cell_type": "code",
      "source": [
        "#@markdown #Download Disini\n",
        "!ls results\n",
        "print('Nih Hasilnya')\n",
        "os.system('zip -r download.zip results')\n",
        "files.download(\"download.zip\")"
      ],
      "metadata": {
        "cellView": "form",
        "id": "vakc0hwUgX7D"
      },
      "execution_count": null,
      "outputs": []
    }
  ]
}